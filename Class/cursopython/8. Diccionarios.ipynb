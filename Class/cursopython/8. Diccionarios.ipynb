{
 "cells": [
  {
   "cell_type": "markdown",
   "metadata": {},
   "source": [
    "# Diccionarios\n",
    "\n",
    "Así como en una lista los valores están indexados por su posición, en un diccionario los valores van a estar indexados por sus llaves. La sintaxis de un diccionario es:\n",
    "\n",
    "```nombre_dict = { key1: value1, key2: value2}```:"
   ]
  },
  {
   "cell_type": "code",
   "execution_count": 1,
   "metadata": {},
   "outputs": [],
   "source": [
    "port = { 22: 'SSH', 23: 'Telnet', 80: 'HTTP', 3306: 'MySQL'}"
   ]
  },
  {
   "cell_type": "markdown",
   "metadata": {},
   "source": [
    "Cada pareja llave valor es considerada un ítem. La llave y el valor están separados por ```:```, cada ítem está separado por comas ```,``` y los items están rodeados por llaves ```{``` ```}```. Un diccionario vacío puede crearse así: ```{}```. Las características clave de un diccionario son:\n",
    "\n",
    "- La llave de un ítem no puede ser cambiada\n",
    "- Un string, int, o float puede ser usado como llave.\n",
    "- Una tupla que no contenga listas puede ser usada como llave.\n",
    "- Las llaves son únicas.\n",
    "- Los valores pueden ser cualquier tipo de dato.\n",
    "- Los valores pueden estar repetidos.\n",
    "- Los valores pueden ser cambiados.\n",
    "- Un diccionario es una colección desordenada (el orden en el que se ingresen los datos es independiente de la forma en la que se almacenan en la estructura de datos).\n"
   ]
  },
  {
   "cell_type": "markdown",
   "metadata": {},
   "source": [
    "### Operaciones sobre diccionarios"
   ]
  },
  {
   "cell_type": "markdown",
   "metadata": {},
   "source": [
    "Para acceder a un valor en un diccionario es necesario tener la llave."
   ]
  },
  {
   "cell_type": "code",
   "execution_count": null,
   "metadata": {},
   "outputs": [],
   "source": [
    "port = { 22: 'SSH', 23: 'Telnet', 80: 'HTTP', 3306: 'MySQL'}"
   ]
  },
  {
   "cell_type": "markdown",
   "metadata": {},
   "source": [
    "Para obtener el nombre del protocolo correspondiente al puerto 22 se puede hacer lo siguiente:"
   ]
  },
  {
   "cell_type": "code",
   "execution_count": 4,
   "metadata": {},
   "outputs": [
    {
     "name": "stdout",
     "output_type": "stream",
     "text": [
      "SSH\n"
     ]
    }
   ],
   "source": [
    "protocol = port[22]\n",
    "print(protocol)"
   ]
  },
  {
   "cell_type": "code",
   "execution_count": 5,
   "metadata": {},
   "outputs": [
    {
     "data": {
      "text/plain": [
       "'MySQL'"
      ]
     },
     "execution_count": 5,
     "metadata": {},
     "output_type": "execute_result"
    }
   ],
   "source": [
    "port[3306]"
   ]
  },
  {
   "cell_type": "markdown",
   "metadata": {},
   "source": [
    "Si la llave no está se produce un ```KeyError```:"
   ]
  },
  {
   "cell_type": "code",
   "execution_count": 7,
   "metadata": {},
   "outputs": [
    {
     "ename": "KeyError",
     "evalue": "443",
     "output_type": "error",
     "traceback": [
      "\u001b[1;31m---------------------------------------------------------------------------\u001b[0m",
      "\u001b[1;31mKeyError\u001b[0m                                  Traceback (most recent call last)",
      "\u001b[1;32m<ipython-input-7-d3e4f6e42da5>\u001b[0m in \u001b[0;36m<module>\u001b[1;34m\u001b[0m\n\u001b[1;32m----> 1\u001b[1;33m \u001b[0mport\u001b[0m\u001b[1;33m[\u001b[0m\u001b[1;36m443\u001b[0m\u001b[1;33m]\u001b[0m\u001b[1;33m\u001b[0m\u001b[1;33m\u001b[0m\u001b[0m\n\u001b[0m",
      "\u001b[1;31mKeyError\u001b[0m: 443"
     ]
    }
   ],
   "source": [
    "port[443]"
   ]
  },
  {
   "cell_type": "markdown",
   "metadata": {},
   "source": [
    "## Eliminación de ítems"
   ]
  },
  {
   "cell_type": "markdown",
   "metadata": {},
   "source": [
    "Con ```del``` es posible eliminar el diccionario entero o los ítems de un diccionario. Si se desea eliminar un ítem se puede utilizar la siguiente sintaxis:\n",
    "\n",
    "```del dict[key]```"
   ]
  },
  {
   "cell_type": "code",
   "execution_count": 10,
   "metadata": {},
   "outputs": [
    {
     "name": "stdout",
     "output_type": "stream",
     "text": [
      "{22: 'SSH', 23: 'Telnet', 80: 'HTTP', 3306: 'MySQL'}\n",
      "{22: 'SSH', 80: 'HTTP', 3306: 'MySQL'}\n"
     ]
    }
   ],
   "source": [
    "port = { 22: 'SSH', 23: 'Telnet', 80: 'HTTP', 3306: 'MySQL'}\n",
    "print(port)\n",
    "del port[23]\n",
    "print(port)"
   ]
  },
  {
   "cell_type": "markdown",
   "metadata": {},
   "source": [
    "## Actualización de valores en un diccionario\n",
    "\n",
    "Para actualizar valores en un diccionario basta con realizar la siguiente asignación:\n",
    "\n",
    "```dict[key] = new_val```\n"
   ]
  },
  {
   "cell_type": "code",
   "execution_count": 13,
   "metadata": {},
   "outputs": [
    {
     "name": "stdout",
     "output_type": "stream",
     "text": [
      "{80: 'HTTP', 23: 'SMTP', 443: 'HTTPS'}\n",
      "{80: 'HTTP', 23: 'Telnet', 443: 'HTTPS'}\n"
     ]
    }
   ],
   "source": [
    "port = {80: \"HTTP\", 23 : \"SMTP\", 443 : \"HTTPS\"}\n",
    "print(port)\n",
    "port[23] = 'Telnet'\n",
    "print(port)"
   ]
  },
  {
   "cell_type": "markdown",
   "metadata": {},
   "source": [
    "Para añadir un valor se realiza la asignación:\n",
    "\n",
    "```dict[new_key] = new_val```"
   ]
  },
  {
   "cell_type": "code",
   "execution_count": 15,
   "metadata": {},
   "outputs": [
    {
     "name": "stdout",
     "output_type": "stream",
     "text": [
      "{80: 'HTTP', 23: 'SMTP', 443: 'HTTPS'}\n",
      "{80: 'HTTP', 23: 'SMTP', 443: 'HTTPS', 110: 'POP'}\n"
     ]
    }
   ],
   "source": [
    "port = {80: \"HTTP\", 23 : \"SMTP\", 443 : \"HTTPS\"}\n",
    "print(port)\n",
    "port[110] = 'POP'\n",
    "print(port)"
   ]
  },
  {
   "cell_type": "markdown",
   "metadata": {},
   "source": [
    "### Funciones básicas de diccionarios"
   ]
  },
  {
   "cell_type": "markdown",
   "metadata": {},
   "source": [
    "Obtener la cantidad de ítems:"
   ]
  },
  {
   "cell_type": "code",
   "execution_count": 18,
   "metadata": {},
   "outputs": [
    {
     "data": {
      "text/plain": [
       "3"
      ]
     },
     "execution_count": 18,
     "metadata": {},
     "output_type": "execute_result"
    }
   ],
   "source": [
    "port = {80: \"HTTP\", 23 : \"SMTP\", 443 : \"HTTPS\"}\n",
    "len(port)"
   ]
  },
  {
   "cell_type": "markdown",
   "metadata": {},
   "source": [
    "Transformar diccionario en string:"
   ]
  },
  {
   "cell_type": "code",
   "execution_count": 21,
   "metadata": {},
   "outputs": [
    {
     "data": {
      "text/plain": [
       "\"{80: 'HTTP', 23: 'SMTP', 443: 'HTTPS'}\""
      ]
     },
     "execution_count": 21,
     "metadata": {},
     "output_type": "execute_result"
    }
   ],
   "source": [
    "str(port)"
   ]
  },
  {
   "cell_type": "markdown",
   "metadata": {},
   "source": [
    "Obtener la llave con el valor máximo ó mínimo:\n"
   ]
  },
  {
   "cell_type": "code",
   "execution_count": 22,
   "metadata": {},
   "outputs": [
    {
     "data": {
      "text/plain": [
       "443"
      ]
     },
     "execution_count": 22,
     "metadata": {},
     "output_type": "execute_result"
    }
   ],
   "source": [
    "port = {80: \"HTTP\", 23 : \"SMTP\", 443 : \"HTTPS\"}\n",
    "max(port)"
   ]
  },
  {
   "cell_type": "code",
   "execution_count": 23,
   "metadata": {},
   "outputs": [
    {
     "data": {
      "text/plain": [
       "23"
      ]
     },
     "execution_count": 23,
     "metadata": {},
     "output_type": "execute_result"
    }
   ],
   "source": [
    "min(port)"
   ]
  },
  {
   "cell_type": "markdown",
   "metadata": {},
   "source": [
    "Es posible convertir una lista de listas o una lista de tuplas en un diccionario usando ```dict```."
   ]
  },
  {
   "cell_type": "code",
   "execution_count": 25,
   "metadata": {},
   "outputs": [
    {
     "name": "stdout",
     "output_type": "stream",
     "text": [
      "{80: 'http', 20: 'ftp', 23: 'telnet', 443: 'https', 53: 'DNS'}\n"
     ]
    }
   ],
   "source": [
    "port = [[80,\"http\"],[20,\"ftp\"],[23,\"telnet\"],[443,\"https\"],[53,\"DNS\"]]\n",
    "d_port = dict(port)\n",
    "print(d_port)"
   ]
  },
  {
   "cell_type": "code",
   "execution_count": 26,
   "metadata": {},
   "outputs": [
    {
     "name": "stdout",
     "output_type": "stream",
     "text": [
      "{80: 'http', 20: 'ftp', 23: 'telnet', 443: 'https', 53: 'DNS'}\n"
     ]
    }
   ],
   "source": [
    "port = [(80,\"http\"),(20,\"ftp\"),(23,\"telnet\"),(443,\"https\"),(53,\"DNS\")]\n",
    "d_port = dict(port)\n",
    "print(d_port)"
   ]
  },
  {
   "cell_type": "markdown",
   "metadata": {},
   "source": [
    "Para validar la existencia de la llave en un diccionario se puede utilizar el operador ```in```"
   ]
  },
  {
   "cell_type": "code",
   "execution_count": 29,
   "metadata": {},
   "outputs": [
    {
     "name": "stdout",
     "output_type": "stream",
     "text": [
      "True\n",
      "False\n"
     ]
    }
   ],
   "source": [
    "print(80 in d_port)\n",
    "print(222 in d_port)"
   ]
  },
  {
   "cell_type": "markdown",
   "metadata": {},
   "source": [
    "Para obtener la copia de un diccionario se puede utilzar ```dict.copy()```"
   ]
  },
  {
   "cell_type": "code",
   "execution_count": 31,
   "metadata": {},
   "outputs": [],
   "source": [
    "port = {80: \"HTTP\", 23 : \"SMTP\", 443 : \"HTTPS\"}\n",
    "copy_port = port.copy()\n",
    "false_copy = port"
   ]
  },
  {
   "cell_type": "code",
   "execution_count": 32,
   "metadata": {},
   "outputs": [
    {
     "data": {
      "text/plain": [
       "True"
      ]
     },
     "execution_count": 32,
     "metadata": {},
     "output_type": "execute_result"
    }
   ],
   "source": [
    "false_copy is port"
   ]
  },
  {
   "cell_type": "code",
   "execution_count": 33,
   "metadata": {},
   "outputs": [
    {
     "data": {
      "text/plain": [
       "False"
      ]
     },
     "execution_count": 33,
     "metadata": {},
     "output_type": "execute_result"
    }
   ],
   "source": [
    "copy_port is port"
   ]
  },
  {
   "cell_type": "code",
   "execution_count": 34,
   "metadata": {},
   "outputs": [
    {
     "name": "stdout",
     "output_type": "stream",
     "text": [
      "{80: 'HTTP', 23: 'SMTP', 443: 'HTTPS'}\n"
     ]
    }
   ],
   "source": [
    "print(copy_port)"
   ]
  },
  {
   "cell_type": "markdown",
   "metadata": {},
   "source": [
    "Para obtener el valor correspondiente a una llave también se puede utilizar ```get```. \n",
    "\n",
    "```dict.get(key, default=None)```"
   ]
  },
  {
   "cell_type": "code",
   "execution_count": 35,
   "metadata": {},
   "outputs": [
    {
     "data": {
      "text/plain": [
       "1"
      ]
     },
     "execution_count": 35,
     "metadata": {},
     "output_type": "execute_result"
    }
   ],
   "source": [
    "dict1 = {'a':1, 'b':2, 'c':3}\n",
    "dict1.get('a')"
   ]
  },
  {
   "cell_type": "code",
   "execution_count": 36,
   "metadata": {},
   "outputs": [
    {
     "data": {
      "text/plain": [
       "'llave no encontrada.'"
      ]
     },
     "execution_count": 36,
     "metadata": {},
     "output_type": "execute_result"
    }
   ],
   "source": [
    "dict1.get('d', 'llave no encontrada.')"
   ]
  },
  {
   "cell_type": "markdown",
   "metadata": {},
   "source": [
    "Para obtener una lista de las llaves se puede hacer lo siguiente:"
   ]
  },
  {
   "cell_type": "code",
   "execution_count": 42,
   "metadata": {},
   "outputs": [
    {
     "name": "stdout",
     "output_type": "stream",
     "text": [
      "['a', 'b', 'c']\n"
     ]
    }
   ],
   "source": [
    "dict1 = {'a':1, 'b':2, 'c':3}\n",
    "print(list(dict1.keys()))"
   ]
  },
  {
   "cell_type": "markdown",
   "metadata": {},
   "source": [
    "Para obtener una lista de los valores:"
   ]
  },
  {
   "cell_type": "code",
   "execution_count": 44,
   "metadata": {},
   "outputs": [
    {
     "name": "stdout",
     "output_type": "stream",
     "text": [
      "[1, 2, 3]\n"
     ]
    }
   ],
   "source": [
    "dict1 = {'a':1, 'b':2, 'c':3}\n",
    "print(list(dict1.values()))"
   ]
  },
  {
   "cell_type": "markdown",
   "metadata": {},
   "source": [
    "Es posible añadir las llaves de un diccionario en otro diccionario con ```update```:\n",
    "\n"
   ]
  },
  {
   "cell_type": "code",
   "execution_count": 47,
   "metadata": {},
   "outputs": [
    {
     "name": "stdout",
     "output_type": "stream",
     "text": [
      "{22: 'SSH', 23: 'telnet', 80: 'Http', 53: 'DNS', 443: 'https'}\n"
     ]
    }
   ],
   "source": [
    "dict_ports1 = {22: \"SSH\", 23: \"telnet\", 80: \"Http\"}\n",
    "dict_ports2 = {53 :\"DNS\", 443 : \"https\"}\n",
    "dict_ports1.update(dict_ports2)\n",
    "print(dict_ports1)"
   ]
  },
  {
   "cell_type": "markdown",
   "metadata": {},
   "source": [
    "Para obtener una lista de tuplas correspondiente al diccionario se utiliza ```items```:"
   ]
  },
  {
   "cell_type": "code",
   "execution_count": 50,
   "metadata": {},
   "outputs": [
    {
     "name": "stdout",
     "output_type": "stream",
     "text": [
      "[(22, 'SSH'), (23, 'telnet'), (80, 'Http')]\n"
     ]
    }
   ],
   "source": [
    "dict_ports1 = {22: \"SSH\", 23: \"telnet\", 80: \"Http\"}\n",
    "print(list(dict_ports1.items()))"
   ]
  },
  {
   "cell_type": "markdown",
   "metadata": {},
   "source": [
    "Para eliminar todas las entradas de un diccionario se utiliza ```clear()```:"
   ]
  },
  {
   "cell_type": "code",
   "execution_count": 53,
   "metadata": {},
   "outputs": [
    {
     "name": "stdout",
     "output_type": "stream",
     "text": [
      "{22: 'SSH', 23: 'telnet', 80: 'Http'}\n",
      "{}\n"
     ]
    }
   ],
   "source": [
    "dict_ports = {22: \"SSH\", 23: \"telnet\", 80: \"Http\"}\n",
    "print(dict_ports)\n",
    "dict_ports.clear()\n",
    "print(dict_ports)"
   ]
  },
  {
   "cell_type": "markdown",
   "metadata": {},
   "source": [
    "Una forma de mostrar las llaves es la siguiente:"
   ]
  },
  {
   "cell_type": "code",
   "execution_count": 54,
   "metadata": {},
   "outputs": [
    {
     "name": "stdout",
     "output_type": "stream",
     "text": [
      "22\n",
      "23\n",
      "80\n"
     ]
    }
   ],
   "source": [
    "dict_ports = {22: \"SSH\", 23: \"telnet\", 80: \"Http\"}\n",
    "for port in dict_ports:\n",
    "    print(port)"
   ]
  },
  {
   "cell_type": "markdown",
   "metadata": {},
   "source": [
    "Para listar los ítems:"
   ]
  },
  {
   "cell_type": "code",
   "execution_count": 56,
   "metadata": {},
   "outputs": [
    {
     "name": "stdout",
     "output_type": "stream",
     "text": [
      "22 -> SSH\n",
      "23 -> telnet\n",
      "80 -> Http\n"
     ]
    }
   ],
   "source": [
    "dict_ports = {22: \"SSH\", 23: \"telnet\", 80: \"Http\"}\n",
    "for k,v in dict_ports.items():\n",
    "    print(k,'->',v)"
   ]
  },
  {
   "cell_type": "markdown",
   "metadata": {},
   "source": [
    "\n",
    "    "
   ]
  },
  {
   "cell_type": "markdown",
   "metadata": {},
   "source": [
    "### Ejercicio 1\n",
    "\n",
    "Utilizando el diccionario de puertos ```port1 = {21: \"FTP\", 22:\"SSH\", 23: \"telnet\", 80:\n",
    "\"http\"}``` cree un nuevo diccionario donde las llaves se vuelvan valores y los valores llaves: así: ```port2 = {\"FTP\":21, \"SSH\":22, \"telnet\":23, \"http\": 80}```\n",
    "\n"
   ]
  },
  {
   "cell_type": "code",
   "execution_count": 9,
   "metadata": {},
   "outputs": [
    {
     "name": "stdout",
     "output_type": "stream",
     "text": [
      "{'FTP': 21, 'SSH': 22, 'telnet': 23, 'http': 80}\n"
     ]
    }
   ],
   "source": []
  },
  {
   "cell_type": "markdown",
   "metadata": {},
   "source": [
    "### Ejercicio 2 Diccionario a partir de Listas\n",
    "\n",
    "Se tienen dos listas de datos que se desean asociar a un diccionario en python. Se desea que los datos de la primera listas sean las llaves de cada ítem y los datos de la segunda lista sean los valores correspondientes a cada llave. \n",
    "\n",
    "#### Entrada:\n",
    "La entrada contiene datos separados por espacios en dos líneas que representan las dos listas.\n",
    "\n",
    "#### Salida:\n",
    "Muestre en forma de diccionario la unión de las dos listas dados los criterios establecidos.\n",
    "\n",
    "#### Ejemplo\n",
    "\n",
    "<table>\n",
    "    <tr><td>Input</td><td>Output</td></tr>\n",
    "    <tr>\n",
    "        <td>1 2 3 4 5<br>\n",
    "            a b c d e</td><td>{1: 'a', 2: 'b', 3: 'c', 4: 'd', 5: 'e'}</td>\n",
    "    </tr>\n",
    "</table>\n",
    "    \n"
   ]
  },
  {
   "cell_type": "code",
   "execution_count": 4,
   "metadata": {},
   "outputs": [
    {
     "name": "stdout",
     "output_type": "stream",
     "text": [
      "FUKL UN UD UTADEO UNIANDES\n",
      "3472311 3165000 01-800-0914410 2427030 3394949\n"
     ]
    },
    {
     "data": {
      "text/plain": [
       "{'FUKL': '3472311',\n",
       " 'UN': '3165000',\n",
       " 'UD': '01-800-0914410',\n",
       " 'UTADEO': '2427030',\n",
       " 'UNIANDES': '3394949'}"
      ]
     },
     "execution_count": 4,
     "metadata": {},
     "output_type": "execute_result"
    }
   ],
   "source": []
  },
  {
   "cell_type": "markdown",
   "metadata": {},
   "source": [
    "### Ejercicio 3: Yendo al mercado\n",
    "\n",
    "Dory quiere ir al mercado a comprar frutas y vegetales. Como es un poco olvidadiza suele ir al mercado varias veces para ir a comprar diferentes frutas y verduras.\n",
    "\n",
    "Entrada:\n",
    "La entrada de este problema contiene un entero N que es la cantidad de viajes que hace al mercado. En cada viaje se define un número M correspondiente a la cantidad de productos disponibles en el mercado. Después se tienen M productos con sus precios respectivos por kg. La siguiente entrada contiene un entero P que indica la cantidad de productos que Dory quiere comprar. Las siguientes líneas contienen el nombre del producto y la cantidad de kilos que Dory quiere comprar.\n",
    "\n",
    "Salida:\n",
    "Muestre el dinero gastado por Dory en cada viaje al mercado con dos cifras de precisión decimal.\n",
    "\n",
    "<table>\n",
    "    <tr>\n",
    "        <td>Input</td><td>Ouput</td>\n",
    "    </tr>\n",
    "    <tr>\n",
    "        <td>1<br>\n",
    "            5<br>\n",
    "            uva 2.50<br>\n",
    "            banano 4.00<br>\n",
    "            pera 2.10<br>\n",
    "            granadilla 6.00<br>\n",
    "            naranja 5.00<br>\n",
    "            5<br>\n",
    "            uva 10<br>\n",
    "            banano 10<br>\n",
    "            pera 15<br>\n",
    "            granadilla 12<br>\n",
    "            naranja 18<br>\n",
    "        </td><td>$258.50</td>\n",
    "        </tr>\n",
    "</table>\n",
    "   \n"
   ]
  },
  {
   "cell_type": "code",
   "execution_count": 5,
   "metadata": {},
   "outputs": [
    {
     "name": "stdout",
     "output_type": "stream",
     "text": [
      "1\n",
      "5\n",
      "uva 2.50\n",
      "banano 4.00\n",
      "pera 2.10\n",
      "granadilla 6.00\n",
      "naranja 5.00\n",
      "5\n",
      "uva 10\n",
      "banano 10\n",
      "pera 15\n",
      "granadilla 12\n",
      "naranja 18\n",
      "$258.50\n"
     ]
    }
   ],
   "source": [
    "\n",
    "\n"
   ]
  },
  {
   "cell_type": "markdown",
   "metadata": {},
   "source": [
    "### Referencias:\n",
    "\n",
    "Barry, P. (2016). Head First Python: A Brain-Friendly Guide. \" O'Reilly Media, Inc.\".\n",
    "\n",
    "Das, B. N. (2017). Learn Python in 7 Days. Packt Publishing Ltd.\n",
    "\n",
    "https://codeforces.com/"
   ]
  }
 ],
 "metadata": {
  "kernelspec": {
   "display_name": "Python 3",
   "language": "python",
   "name": "python3"
  },
  "language_info": {
   "codemirror_mode": {
    "name": "ipython",
    "version": 3
   },
   "file_extension": ".py",
   "mimetype": "text/x-python",
   "name": "python",
   "nbconvert_exporter": "python",
   "pygments_lexer": "ipython3",
   "version": "3.7.4"
  }
 },
 "nbformat": 4,
 "nbformat_minor": 2
}
